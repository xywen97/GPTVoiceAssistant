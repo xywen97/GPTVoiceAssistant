{
 "cells": [
  {
   "cell_type": "code",
   "execution_count": 3,
   "metadata": {},
   "outputs": [
    {
     "name": "stdout",
     "output_type": "stream",
     "text": [
      "Collecting baidu-aip\n",
      "  Downloading baidu_aip-4.16.11-py3-none-any.whl (29 kB)\n",
      "Requirement already satisfied: requests in c:\\users\\xiang\\anaconda3\\lib\\site-packages (from baidu-aip) (2.28.1)\n",
      "Requirement already satisfied: urllib3<1.27,>=1.21.1 in c:\\users\\xiang\\anaconda3\\lib\\site-packages (from requests->baidu-aip) (1.26.14)\n",
      "Requirement already satisfied: idna<4,>=2.5 in c:\\users\\xiang\\anaconda3\\lib\\site-packages (from requests->baidu-aip) (3.4)\n",
      "Requirement already satisfied: certifi>=2017.4.17 in c:\\users\\xiang\\anaconda3\\lib\\site-packages (from requests->baidu-aip) (2022.12.7)\n",
      "Requirement already satisfied: charset-normalizer<3,>=2 in c:\\users\\xiang\\anaconda3\\lib\\site-packages (from requests->baidu-aip) (2.0.4)\n",
      "Installing collected packages: baidu-aip\n",
      "Successfully installed baidu-aip-4.16.11\n",
      "Note: you may need to restart the kernel to use updated packages.\n"
     ]
    }
   ],
   "source": [
    "%pip install baidu-aip"
   ]
  },
  {
   "cell_type": "code",
   "execution_count": 4,
   "metadata": {},
   "outputs": [
    {
     "name": "stdout",
     "output_type": "stream",
     "text": [
      "请说话...\n",
      "\n",
      "正在分析...\n",
      "'result'\n",
      "\n"
     ]
    }
   ],
   "source": [
    "#pip install baidu-aip\n",
    "from aip import AipSpeech\n",
    "import speech_recognition as sr\n",
    " \n",
    "#上一篇文章介绍的获取的Key值\n",
    "APP_ID = '35481477'\n",
    "API_KEY = 'wTbIB3rBqTSH1cfIxeoecyt9'\n",
    "SECRET_KEY = 'yFcLKdaDCRjtnIyZsSSxnEfDIApaKgZW'\n",
    "client = AipSpeech(APP_ID, API_KEY, SECRET_KEY)\n",
    " \n",
    "def get_text(wav_bytes):\n",
    "    result = client.asr(wav_bytes, 'wav', 16000, {'dev_pid': 15372,})\n",
    "    try:\n",
    "        text = result['result'][0]\n",
    "    except Exception as e:\n",
    "        print(e)\n",
    "        text = \"\"\n",
    "    return text\n",
    " \n",
    "r = sr.Recognizer()\n",
    "mic = sr.Microphone()\n",
    "print(\"请说话...\")\n",
    " \n",
    "with mic as source:\n",
    "    r.adjust_for_ambient_noise(source)\n",
    "    audio = r.listen(source)\n",
    " \n",
    "audio_data = audio.get_wav_data(convert_rate=16000)\n",
    "print(\"\\n正在分析...\")\n",
    " \n",
    "text = get_text(audio_data)\n",
    "print(text)"
   ]
  }
 ],
 "metadata": {
  "kernelspec": {
   "display_name": "base",
   "language": "python",
   "name": "python3"
  },
  "language_info": {
   "codemirror_mode": {
    "name": "ipython",
    "version": 3
   },
   "file_extension": ".py",
   "mimetype": "text/x-python",
   "name": "python",
   "nbconvert_exporter": "python",
   "pygments_lexer": "ipython3",
   "version": "3.10.9"
  },
  "orig_nbformat": 4
 },
 "nbformat": 4,
 "nbformat_minor": 2
}
