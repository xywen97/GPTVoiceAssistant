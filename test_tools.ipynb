{
 "cells": [
  {
   "cell_type": "code",
   "execution_count": 3,
   "metadata": {},
   "outputs": [
    {
     "name": "stdout",
     "output_type": "stream",
     "text": [
      "word None 1 0\n",
      "word None 1 0\n",
      "word None 1 308964\n",
      "word None 1 308964\n",
      "word None 2 308964\n",
      "word None 2 308964\n"
     ]
    }
   ],
   "source": [
    "import pyttsx3\n",
    "def onWord(name, location, length):\n",
    "   print('word', name, location, length)\n",
    "   if location > 10:\n",
    "      engine.stop()\n",
    "\n",
    "engine = pyttsx3.init()\n",
    "\n",
    "if engine._inLoop:\n",
    "    engine.endLoop()\n",
    "\n",
    "engine.connect('started-word', onWord)\n",
    "engine.say('The quick brown fox jumped over the lazy dog.')\n",
    "engine.runAndWait()"
   ]
  },
  {
   "cell_type": "code",
   "execution_count": 8,
   "metadata": {},
   "outputs": [
    {
     "name": "stdout",
     "output_type": "stream",
     "text": [
      "HKEY_LOCAL_MACHINE\\SOFTWARE\\Microsoft\\Speech\\Voices\\Tokens\\TTS_MS_ZH-CN_HUIHUI_11.0\n",
      "HKEY_LOCAL_MACHINE\\SOFTWARE\\Microsoft\\Speech\\Voices\\Tokens\\TTS_MS_EN-US_ZIRA_11.0\n",
      "HKEY_LOCAL_MACHINE\\SOFTWARE\\Microsoft\\Speech\\Voices\\Tokens\\TTS_MS_EN-US_DAVID_11.0\n",
      "word None 1 1231976\n",
      "word None 1 1231976\n",
      "word None 1 1267232\n",
      "word None 1 1267232\n",
      "word None 1 1267232\n",
      "word None 1 1267232\n"
     ]
    }
   ],
   "source": [
    "import pyttsx3\n",
    "engine = pyttsx3.init()\n",
    "voices = engine.getProperty('voices')\n",
    "if engine._inLoop:\n",
    "   engine.endLoop()\n",
    "for voice in voices:\n",
    "   print(voice.id)\n",
    "   engine.setProperty('voice', voice.id)\n",
    "   engine.say('你好')\n",
    "engine.runAndWait()"
   ]
  },
  {
   "cell_type": "code",
   "execution_count": 13,
   "metadata": {},
   "outputs": [
    {
     "name": "stdout",
     "output_type": "stream",
     "text": [
      "starting brown\n",
      "starting brown\n",
      "starting brown\n",
      "starting brown\n",
      "starting brown\n",
      "word brown 1 1399092\n",
      "word brown 1 1399092\n",
      "word brown 1 1399092\n",
      "word brown 1 1399092\n",
      "word brown 1 1399092\n",
      "word brown 1 1399092\n",
      "word brown 1 1399092\n",
      "finishing brown False\n",
      "finishing brown False\n",
      "finishing brown False\n",
      "finishing brown False\n",
      "finishing brown False\n",
      "word brown 1 1483112\n",
      "word brown 1 1483112\n",
      "word brown 1 1483112\n",
      "word brown 1 1483112\n",
      "word brown 1 1483112\n",
      "word brown 1 1483112\n",
      "word brown 1 1483112\n",
      "word brown 2 1483112\n",
      "word brown 2 1483112\n",
      "word brown 2 1483112\n",
      "word brown 2 1483112\n",
      "word brown 2 1483112\n",
      "word brown 2 1483112\n",
      "word brown 2 1483112\n"
     ]
    }
   ],
   "source": [
    "import pyttsx3\n",
    "engine = pyttsx3.init()\n",
    "def onStart(name):\n",
    "   print('starting', name)\n",
    "def onWord(name, location, length):\n",
    "   print('word', name, location, length)\n",
    "def onEnd(name, completed):\n",
    "   print('finishing', name, completed)\n",
    "   if name == 'fox':\n",
    "      engine.say('What a lazy dog!', 'dog')\n",
    "   elif name == 'brown':\n",
    "      engine.endLoop()\n",
    "engine = pyttsx3.init()\n",
    "if engine._inLoop:\n",
    "    engine.endLoop()\n",
    "engine.connect('started-utterance', onStart)\n",
    "engine.connect('started-word', onWord)\n",
    "engine.connect('finished-utterance', onEnd)\n",
    "engine.say('The quick brown fox jumped over the lazy dog.', 'brown')\n",
    "engine.startLoop()"
   ]
  },
  {
   "cell_type": "code",
   "execution_count": 7,
   "metadata": {},
   "outputs": [
    {
     "name": "stdout",
     "output_type": "stream",
     "text": [
      "word wish 1 310548\n",
      "word wish 1 310548\n",
      "word wish 1 310548\n",
      "word wish 1 310548\n",
      "word wish 1 310548\n",
      "word wish 1 310548\n",
      "word wish 1 310548\n"
     ]
    }
   ],
   "source": [
    "import pyttsx3\n",
    "def onWord(name, location, length):\n",
    "    print ('word', name, location, length)\n",
    "    if name == 'wish':\n",
    "        engine.say('ciao', 'ciao')\n",
    "    # if location > 10:\n",
    "    #     engine.stop()\n",
    "engine = pyttsx3.init()\n",
    "if engine._inLoop:\n",
    "    engine.endLoop()\n",
    "engine.connect('started-word', onWord)\n",
    "engine.say('i wish you happy', 'wish')\n",
    "engine.runAndWait()\n",
    "engine.stop()\n"
   ]
  },
  {
   "cell_type": "code",
   "execution_count": 9,
   "metadata": {},
   "outputs": [
    {
     "name": "stdout",
     "output_type": "stream",
     "text": [
      "Collecting playsound\n",
      "  Downloading playsound-1.3.0.tar.gz (7.7 kB)\n",
      "  Preparing metadata (setup.py): started\n",
      "  Preparing metadata (setup.py): finished with status 'done'\n",
      "Building wheels for collected packages: playsound\n",
      "  Building wheel for playsound (setup.py): started\n",
      "  Building wheel for playsound (setup.py): finished with status 'done'\n",
      "  Created wheel for playsound: filename=playsound-1.3.0-py3-none-any.whl size=7046 sha256=cbcd816beefb7c42c9f16c1771e23b9939ea92a6b24d29ba658a371927096bf9\n",
      "  Stored in directory: c:\\users\\xiang\\appdata\\local\\pip\\cache\\wheels\\90\\89\\ed\\2d643f4226fc8c7c9156fc28abd8051e2d2c0de37ae51ac45c\n",
      "Successfully built playsound\n",
      "Installing collected packages: playsound\n",
      "Successfully installed playsound-1.3.0\n",
      "Note: you may need to restart the kernel to use updated packages.\n"
     ]
    }
   ],
   "source": [
    "%pip install playsound"
   ]
  },
  {
   "cell_type": "code",
   "execution_count": 6,
   "metadata": {},
   "outputs": [],
   "source": [
    "import pyttsx3\n",
    "from playsound import playsound\n",
    "\n",
    "input = \"play iat_mp3_16k\"\n",
    "\n",
    "if \"play\" in input:\n",
    "    songName = input[5:] + \".mp3\"\n",
    "    try:\n",
    "        playsound(songName)\n",
    "                \n",
    "    except:\n",
    "        engine.say(\"I couldn't find the song.\")\n",
    "        engine.runAndWait()\n"
   ]
  },
  {
   "cell_type": "code",
   "execution_count": 13,
   "metadata": {},
   "outputs": [
    {
     "name": "stdout",
     "output_type": "stream",
     "text": [
      "Collecting pygame\n",
      "  Downloading pygame-2.5.0-cp310-cp310-win_amd64.whl (10.5 MB)\n",
      "     -------------------------------------- 10.5/10.5 MB 117.8 kB/s eta 0:00:00\n",
      "Installing collected packages: pygame\n",
      "Successfully installed pygame-2.5.0\n",
      "Note: you may need to restart the kernel to use updated packages.\n"
     ]
    }
   ],
   "source": [
    "%pip install pygame"
   ]
  },
  {
   "cell_type": "code",
   "execution_count": 5,
   "metadata": {},
   "outputs": [],
   "source": [
    "import pygame\n",
    "import pyttsx3\n",
    "\n",
    "engine = pyttsx3.init()\n",
    "\n",
    "def playSong(songName):\n",
    "    pygame.mixer.init()\n",
    "    pygame.mixer.music.load(songName)\n",
    "    pygame.mixer.music.play()\n",
    "\n",
    "input = \"play iat_mp3_16k\"\n",
    "\n",
    "def speak(audio):\n",
    "    engine.say(audio)\n",
    "    engine.runAndWait()\n",
    "\n",
    "if \"play\" in input:\n",
    "                \n",
    "    try:\n",
    "        songName = input[5:]+\".mp3\" #Takes the song name user wanted\n",
    "        speak(\"That's a nice song choice.\")\n",
    "        playSong(songName) \n",
    "    except:\n",
    "        speak(\"I couldn't find the song.\")"
   ]
  },
  {
   "cell_type": "code",
   "execution_count": 2,
   "metadata": {},
   "outputs": [],
   "source": [
    "from tkinter import *\n",
    "import pyttsx3\n",
    "import pygame\n",
    "\n",
    "pygame.mixer.init()\n",
    "engine = pyttsx3.init()\n",
    "\n",
    "root = Tk()\n",
    "\n",
    "def read():\n",
    "    for i in range(3):\n",
    "        outfile = f\"temp_{i}.wav\"\n",
    "        # text.get('1.0', END)\n",
    "        engine.save_to_file(\"test this is a test file\", outfile)\n",
    "        engine.runAndWait()\n",
    "        engine.stop()\n",
    "        # 关闭文件\n",
    "        pygame.mixer.music.load(outfile)\n",
    "        pygame.mixer.music.play()\n",
    "        while pygame.mixer.music.get_busy():\n",
    "            continue\n",
    "\n",
    "def stop():\n",
    "    pygame.mixer.music.stop()\n",
    "\n",
    "def pause():\n",
    "    pygame.mixer.music.pause()\n",
    "\n",
    "def unpause():\n",
    "    pygame.mixer.music.unpause()\n",
    "\n",
    "\n",
    "text = Text(width=65, height=20, font=\"consolas 14\")\n",
    "text.pack()\n",
    "\n",
    "text.insert(END, \"This is a text widget\\n\"*10)\n",
    "\n",
    "read_button = Button(root, text=\"Read aloud\", command=read)\n",
    "read_button.pack(pady=20)\n",
    "\n",
    "pause_button = Button(root, text=\"Pause\", command=pause)\n",
    "pause_button.pack()\n",
    "\n",
    "unpause_button = Button(root, text=\"Unpause\", command=unpause)\n",
    "unpause_button.pack(pady=20)\n",
    "\n",
    "stop_button = Button(root, text=\"Stop\", command=stop)\n",
    "stop_button.pack()\n",
    "\n",
    "mainloop()"
   ]
  }
 ],
 "metadata": {
  "kernelspec": {
   "display_name": "voice",
   "language": "python",
   "name": "python3"
  },
  "language_info": {
   "codemirror_mode": {
    "name": "ipython",
    "version": 3
   },
   "file_extension": ".py",
   "mimetype": "text/x-python",
   "name": "python",
   "nbconvert_exporter": "python",
   "pygments_lexer": "ipython3",
   "version": "3.10.11"
  },
  "orig_nbformat": 4
 },
 "nbformat": 4,
 "nbformat_minor": 2
}
